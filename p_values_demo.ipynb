{
 "cells": [
  {
   "cell_type": "markdown",
   "metadata": {},
   "source": [
    "# P-Values"
   ]
  },
  {
   "cell_type": "markdown",
   "metadata": {},
   "source": [
    "**Disclaimer: All code used to generate these visuals are out of scope. You do not need to understand anything about how these plots were made.** "
   ]
  },
  {
   "cell_type": "markdown",
   "metadata": {},
   "source": [
    "### Goals:\n",
    "1. What is a p-value?\n",
    "2. How do we calculate a p-value?\n",
    "3. What is the significance of a p-value?"
   ]
  },
  {
   "cell_type": "markdown",
   "metadata": {},
   "source": [
    "### Definition:\n",
    "The p-value is the chance that under the null hypothesis, that the test statistic is equal to the value that was observed in the data or even further in the direction of the alternative. \n",
    "\n",
    "Intuitive Interpretation: p-value shows how likely it is, if the null model really represents what's going on in the real world, we were able to get the result we observed or something even more extreme."
   ]
  },
  {
   "cell_type": "markdown",
   "metadata": {},
   "source": [
    "### Coin Flip Demonstration: \n",
    "Let's break down our definition and try to understand each part in the context of the coin flip demonstration from lecture.  \n",
    "\n",
    "We are given a supposedly fair coin. Upon flipping the coin 10 times, we get a result of 9 heads. Suspicious of these results, we would like to test if this coin were actually fair."
   ]
  },
  {
   "cell_type": "markdown",
   "metadata": {},
   "source": [
    "### Let's first define our null and alternative hypotheses. \n",
    "**Null Hypothesis:** Our coin is perfectly balanced (as all things should be) and has an equal chance of flipping heads or tails, and that any difference is due to random chance.<br/>\n",
    "**Alternative Hypothesis:** Our coin is biased. \n",
    "\n",
    "**Relevance to p-value:** The p-value is the chance that <span style = \"color : red\"> under the null hypothesis</span>, that the test statistic is equal to the value that was observed in the data or even further in the direction of the alternative.<br/>\n",
    "Remember that when we calculate p-value, we are trying to find how likely it is for an event to occur when *the null hypothesis is true*. This means that we use our null hypothesis as the default standard. "
   ]
  },
  {
   "cell_type": "markdown",
   "metadata": {},
   "source": [
    "### Next, let's pick a test statistic and calculate the observed value. \n",
    "We choose our test statistic to be the absolute difference between the number of heads that appeared and the expected number of heads (5).<br/>\n",
    "This means that our observed value is abs(9 - 5) = 4 \n",
    "\n",
    "**Relevance to p-value:** The p-value is the chance that under the null hypothesis, that <span style = \"color : red\">the test statistic </span>is equal to the value that was observed in the data or even further in the direction of the alternative.<br/>\n",
    "We need some way to quantify the degree of agreement between the null hypothesis and each sample of data. This is done using the test statistic; in this example, larger values of test statistics correspond with the alternative. We need to calculate the observed test statistic to use as a comparison.   "
   ]
  },
  {
   "cell_type": "markdown",
   "metadata": {},
   "source": [
    "### Finally, we perform a hypothesis test. "
   ]
  },
  {
   "cell_type": "code",
   "execution_count": 1,
   "metadata": {
    "hide_input": true,
    "tags": [
     "hide_input"
    ]
   },
   "outputs": [],
   "source": [
    "import numpy as np \n",
    "import matplotlib.pyplot as plt \n",
    "np.random.seed(2701781)"
   ]
  },
  {
   "cell_type": "code",
   "execution_count": 2,
   "metadata": {
    "hide_input": true,
    "tags": [
     "hide_input"
    ]
   },
   "outputs": [],
   "source": [
    "# Given a sample space for the coin,\n",
    "# returns absolute difference between number of observed heads and 5 (assumes 10 flips)\n",
    "\n",
    "def calculateTS(possibleOutcomes): \n",
    "    headCount = 0 \n",
    "    for i in range(10): \n",
    "        if (np.random.choice(possibleOutcomes) == \"heads\"):\n",
    "            headCount += 1\n",
    "    return np.abs(headCount - 5)"
   ]
  },
  {
   "cell_type": "code",
   "execution_count": 3,
   "metadata": {
    "hide_input": true,
    "tags": [
     "hide_input"
    ]
   },
   "outputs": [],
   "source": [
    "# Given the possible outcomes for the coin, total number of repetitions, and observed value,\n",
    "# runs the simulation totalRepetitions number of times, plots out a bar chart of \n",
    "# the head rolls (superimposed with observed value), and returns \n",
    "# the testStatistics array (each index corresponds with frequency)\n",
    "\n",
    "def runSimulation(possibleOutcomes, totalRepetitions, observedValue): \n",
    "    testStatistics = np.zeros(6)\n",
    "    observed = list(np.zeros(observedValue))\n",
    "    \n",
    "    for i in range(totalRepetitions):\n",
    "        testStatistics[calculateTS(possibleOutcomes)] += 1\n",
    "\n",
    "    observed.extend(testStatistics[observedValue:])\n",
    "    observed = np.array(observed)\n",
    "    \n",
    "    plt.bar(np.arange(6), testStatistics / totalRepetitions, align = \"center\", color = \"blue\");\n",
    "    plt.bar(np.arange(6), observed / totalRepetitions, align = \"center\", color = \"gold\", alpha = 1.0)\n",
    "    plt.xticks(np.arange(6), np.arange(6));\n",
    "    plt.title(\"Simulating \" + str(totalRepetitions) + \" Times With \" + str(possibleOutcomes) + \" Chance of Heads\");\n",
    "    plt.ylabel(\"Frequency that Test Statistic Appeared\"); \n",
    "    plt.xlabel(\"Absolute Difference between 5 and Number of Heads Rolled\");\n",
    "    plt.show()\n",
    "    return testStatistics"
   ]
  },
  {
   "cell_type": "code",
   "execution_count": 4,
   "metadata": {
    "hide_input": true,
    "tags": [
     "hide_input"
    ]
   },
   "outputs": [],
   "source": [
    "# Given the observed value and an array of frequencies \n",
    "# returns the p-value (in percent)\n",
    "\n",
    "def calculatePVal(observedVal, testStatistic):\n",
    "    return 100 * sum(tsUnderNull[observedValue:]) / sum(tsUnderNull)"
   ]
  },
  {
   "cell_type": "code",
   "execution_count": 5,
   "metadata": {
    "hide_input": true,
    "tags": [
     "hide_input"
    ]
   },
   "outputs": [
    {
     "data": {
      "image/png": "[encoded data removed]",
      "text/plain": [
       "<Figure size 432x288 with 1 Axes>"
      ]
     },
     "metadata": {
      "needs_background": "light"
     },
     "output_type": "display_data"
    }
   ],
   "source": [
    "# We repeat the simulation totalRepetitions number of time (default = 10000)\n",
    "totalRepetitions = 10000       \n",
    "\n",
    "# sample space we use (default = [\"heads\", \"tails\"])\n",
    "possibleOutcomes = np.array([\"heads\", \"tails\"]) \n",
    "\n",
    "# testStatistic for our observed value of 9 (calculated with 9 - 5)\n",
    "observedValue = 4               \n",
    "\n",
    "tsUnderNull = runSimulation(possibleOutcomes, totalRepetitions, observedValue)"
   ]
  },
  {
   "cell_type": "markdown",
   "metadata": {},
   "source": [
    "**Relevance to p-value:** The p-value is the chance that under the null hypothesis, that the test statistic <span style = \"color : red\">is equal to the value that was observed in the data or even further in the direction of the alternative.</span><br/>\n",
    "We need some way to quantify the degree of agreement between the null hypothesis and each sample of data. This is done using the test statistic; larger values of test statistics correspond with the alternative. We need to calculate the observed test statistic to use as a comparison.   "
   ]
  },
  {
   "cell_type": "markdown",
   "metadata": {},
   "source": [
    "### Finally, we can calculate the p-value.\n",
    "The above graph shows the distribution of simulated test statistics under the null hypothesis. To calculate the p-value, we take the values that are equal to or more extreme than our observed value of 4. "
   ]
  },
  {
   "cell_type": "code",
   "execution_count": 6,
   "metadata": {},
   "outputs": [
    {
     "data": {
      "text/plain": [
       "array([2524., 4089., 2346.,  834.,  190.,   17.])"
      ]
     },
     "execution_count": 6,
     "metadata": {},
     "output_type": "execute_result"
    }
   ],
   "source": [
    "tsUnderNull"
   ]
  },
  {
   "cell_type": "code",
   "execution_count": 7,
   "metadata": {
    "hide_input": true,
    "tags": [
     "hide_input"
    ]
   },
   "outputs": [
    {
     "name": "stdout",
     "output_type": "stream",
     "text": [
      "p-value: 2.07%\n"
     ]
    }
   ],
   "source": [
    "print(\"p-value: \" + str(calculatePVal(observedValue, tsUnderNull)) + \"%\")"
   ]
  },
  {
   "cell_type": "markdown",
   "metadata": {},
   "source": [
    "**Interpretation and Significance:** We interpret this p-value to mean that when we flipped a fair coin 10000 times, we found that only 2.07% of the total simulations resulted in us getting 9 or more heads/tails. Lower p-values indicate that an event is less likely to happen under normal conditions (we only had a 2.16% of observing 9 heads). Depending on the p-value cutoff, we can either reject of fail to reject the null hypothesis. The standard p-value cutoff is 5%. "
   ]
  },
  {
   "cell_type": "markdown",
   "metadata": {},
   "source": [
    "### Summary "
   ]
  },
  {
   "cell_type": "markdown",
   "metadata": {},
   "source": [
    "The p-value represents how likely it is we saw our observed value given the null hypothesis is true. To find the p-value, we perform a hypothesis test and find the proportion of simulations that resulted in a test statistic greater than or equal to our observed test statistic. Smaller p-values correspond with the observed event being less likely to happen while larger p-values correspond with the event being more likely to happen under the null. "
   ]
  },
  {
   "cell_type": "markdown",
   "metadata": {},
   "source": [
    "### Conceptual Check\n",
    "\n",
    "Let's say that instead of flipping 9 heads, we observed 6 heads instead. Would this correlate with a smaller or larger p-value? Why? "
   ]
  },
  {
   "cell_type": "code",
   "execution_count": 8,
   "metadata": {
    "tags": [
     "hide_input"
    ]
   },
   "outputs": [
    {
     "data": {
      "image/png": "[encoded data removed]",
      "text/plain": [
       "<Figure size 432x288 with 1 Axes>"
      ]
     },
     "metadata": {
      "needs_background": "light"
     },
     "output_type": "display_data"
    }
   ],
   "source": [
    "# We repeat the simulation totalRepetitions number of time (default = 10000)\n",
    "totalRepetitions = 10000       \n",
    "\n",
    "# sample space we use (default = [\"heads\", \"tails\"])\n",
    "possibleOutcomes = np.array([\"heads\", \"tails\"]) \n",
    "\n",
    "# testStatistic for our observed value of 6 (calculated with 6 - 5)\n",
    "observedValue = 1        \n",
    "\n",
    "tsUnderNull = runSimulation(possibleOutcomes, totalRepetitions, observedValue)"
   ]
  },
  {
   "cell_type": "code",
   "execution_count": 9,
   "metadata": {
    "hide_input": true,
    "tags": [
     "hide_input"
    ]
   },
   "outputs": [
    {
     "name": "stdout",
     "output_type": "stream",
     "text": [
      "p-value: 75.55%\n"
     ]
    }
   ],
   "source": [
    "print(\"p-value: \" + str(calculatePVal(observedValue, tsUnderNull)) + \"%\")"
   ]
  },
  {
   "cell_type": "markdown",
   "metadata": {},
   "source": [
    "**Answer:** An observed value of 6 heads out of 10 would correspond with a larger p-value because it's much more likely to roll 6 or more heads/tails compared to rolling 9 or more heads/tails. An interpretation of the p-value would be that of 10000 flips with a fair coin, 75.55% of them had 6 or more heads/tails. "
   ]
  }
 ],
 "metadata": {
  "kernelspec": {
   "display_name": "Python 3",
   "language": "python",
   "name": "python3"
  },
  "language_info": {
   "codemirror_mode": {
    "name": "ipython",
    "version": 3
   },
   "file_extension": ".py",
   "mimetype": "text/x-python",
   "name": "python",
   "nbconvert_exporter": "python",
   "pygments_lexer": "ipython3",
   "version": "3.7.3"
  }
 },
 "nbformat": 4,
 "nbformat_minor": 2
}
