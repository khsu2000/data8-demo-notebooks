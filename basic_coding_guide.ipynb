{
 "cells": [
  {
   "cell_type": "code",
   "execution_count": 1,
   "metadata": {},
   "outputs": [],
   "source": [
    "# Import statements \n",
    "from datascience import *\n",
    "import numpy as np"
   ]
  },
  {
   "cell_type": "markdown",
   "metadata": {},
   "source": [
    "# Intro \n",
    "\n",
    "This notebook is intended to be paired with the [Data 8 Coding Guide](https://drive.google.com/file/d/19ydn1pUwNQkpudAkMcW5btHLg1NDRFqv/view), and demonstrates some of the basic Python tools used in Data 8, as well as common coding pitfalls. To allow you to run the whole notebook at once, `try` and `except` statements have been added; you are not responsible for understanding these functions. In addition to this notebook, another great resource for walking through code is [Python Tutor](http://www.pythontutor.com/). "
   ]
  },
  {
   "cell_type": "markdown",
   "metadata": {},
   "source": [
    "# Data Types\n",
    "### Examples of Data Types\n",
    "The cells below show three different varieties of single values. "
   ]
  },
  {
   "cell_type": "code",
   "execution_count": 2,
   "metadata": {},
   "outputs": [
    {
     "data": {
      "text/plain": [
       "True"
      ]
     },
     "execution_count": 2,
     "metadata": {},
     "output_type": "execute_result"
    }
   ],
   "source": [
    "# Example of boolean.\n",
    "True"
   ]
  },
  {
   "cell_type": "code",
   "execution_count": 3,
   "metadata": {},
   "outputs": [
    {
     "data": {
      "text/plain": [
       "'Hello Data 8!'"
      ]
     },
     "execution_count": 3,
     "metadata": {},
     "output_type": "execute_result"
    }
   ],
   "source": [
    "# Example of string.\n",
    "\"Hello Data 8!\""
   ]
  },
  {
   "cell_type": "code",
   "execution_count": 4,
   "metadata": {},
   "outputs": [
    {
     "data": {
      "text/plain": [
       "(1, 1.0)"
      ]
     },
     "execution_count": 4,
     "metadata": {},
     "output_type": "execute_result"
    }
   ],
   "source": [
    "# Example of numbers (integer and floating point).\n",
    "1, 1.0"
   ]
  },
  {
   "cell_type": "markdown",
   "metadata": {},
   "source": [
    "Single values can be combined together in an array by using the `make_array` function, or calling functions like `np.arange`."
   ]
  },
  {
   "cell_type": "code",
   "execution_count": 5,
   "metadata": {},
   "outputs": [
    {
     "data": {
      "text/plain": [
       "array(['string 1', 'string 2', 'string 3'], dtype='<U8')"
      ]
     },
     "execution_count": 5,
     "metadata": {},
     "output_type": "execute_result"
    }
   ],
   "source": [
    "# Creating an array of strings with make_array.\n",
    "make_array(\"string 1\", \"string 2\", \"string 3\") "
   ]
  },
  {
   "cell_type": "code",
   "execution_count": 6,
   "metadata": {},
   "outputs": [
    {
     "data": {
      "text/plain": [
       "array([ 1,  2,  3,  4,  5,  6,  7,  8,  9, 10])"
      ]
     },
     "execution_count": 6,
     "metadata": {},
     "output_type": "execute_result"
    }
   ],
   "source": [
    "# Creating an array of 10 numbers with np.arange.\n",
    "np.arange(1, 11)"
   ]
  },
  {
   "cell_type": "markdown",
   "metadata": {},
   "source": [
    "Finally, we can create Tables by reading in a dataset from a .csv file or creating an empty Table with `Table()` and adding columns using `with_columns`. "
   ]
  },
  {
   "cell_type": "code",
   "execution_count": 7,
   "metadata": {},
   "outputs": [
    {
     "data": {
      "text/html": [
       "<table border=\"1\" class=\"dataframe\">\n",
       "    <thead>\n",
       "        <tr>\n",
       "            <th>Textbook Chapter Number</th> <th>Topic</th>\n",
       "        </tr>\n",
       "    </thead>\n",
       "    <tbody>\n",
       "        <tr>\n",
       "            <td>1                      </td> <td>Data Science             </td>\n",
       "        </tr>\n",
       "        <tr>\n",
       "            <td>2                      </td> <td>Causality and Experiments</td>\n",
       "        </tr>\n",
       "        <tr>\n",
       "            <td>3                      </td> <td>Programming in Python    </td>\n",
       "        </tr>\n",
       "    </tbody>\n",
       "</table>"
      ],
      "text/plain": [
       "Textbook Chapter Number | Topic\n",
       "1                       | Data Science\n",
       "2                       | Causality and Experiments\n",
       "3                       | Programming in Python"
      ]
     },
     "execution_count": 7,
     "metadata": {},
     "output_type": "execute_result"
    }
   ],
   "source": [
    "# Creating a Table with textbook chapters\n",
    "Table().with_columns(\n",
    "    \"Textbook Chapter Number\",\n",
    "    np.arange(1, 4), \"Topic\",\n",
    "    make_array(\"Data Science\", \"Causality and Experiments\", \"Programming in Python\")\n",
    ")"
   ]
  },
  {
   "cell_type": "markdown",
   "metadata": {},
   "source": [
    "### Common Mistakes with Data Types"
   ]
  },
  {
   "cell_type": "code",
   "execution_count": 8,
   "metadata": {},
   "outputs": [
    {
     "name": "stdout",
     "output_type": "stream",
     "text": [
      "Encountered error! AttributeError(\"'numpy.ndarray' object has no attribute 'num_rows'\")\n"
     ]
    }
   ],
   "source": [
    "# You cannot use array operations on a Table, or Table operations on an array. \n",
    "# For example, calling .num_rows on an array will error.\n",
    "try:\n",
    "    make_array(1, 2, 3).num_rows\n",
    "except Exception as e:\n",
    "    print(\"Encountered error!\", e.__repr__())"
   ]
  },
  {
   "cell_type": "code",
   "execution_count": 9,
   "metadata": {},
   "outputs": [
    {
     "data": {
      "text/plain": [
       "3"
      ]
     },
     "execution_count": 9,
     "metadata": {},
     "output_type": "execute_result"
    }
   ],
   "source": [
    "# Here is how to fix the above error: \n",
    "len(make_array(1, 2, 3))"
   ]
  },
  {
   "cell_type": "code",
   "execution_count": 10,
   "metadata": {},
   "outputs": [
    {
     "data": {
      "text/html": [
       "<table border=\"1\" class=\"dataframe\">\n",
       "    <thead>\n",
       "        <tr>\n",
       "            <th>Topic</th>\n",
       "        </tr>\n",
       "    </thead>\n",
       "    <tbody>\n",
       "        <tr>\n",
       "            <td>Data Science             </td>\n",
       "        </tr>\n",
       "        <tr>\n",
       "            <td>Causality and Experiments</td>\n",
       "        </tr>\n",
       "        <tr>\n",
       "            <td>Programming in Python    </td>\n",
       "        </tr>\n",
       "    </tbody>\n",
       "</table>"
      ],
      "text/plain": [
       "Topic\n",
       "Data Science\n",
       "Causality and Experiments\n",
       "Programming in Python"
      ]
     },
     "execution_count": 10,
     "metadata": {},
     "output_type": "execute_result"
    }
   ],
   "source": [
    "# Remember that the output of .select is another Table and not an array, even if only one column is specified.  \n",
    "Table().with_columns(\n",
    "    \"Textbook Chapter Number\",\n",
    "    np.arange(1, 4), \n",
    "    \"Topic\",\n",
    "    make_array(\"Data Science\", \"Causality and Experiments\", \"Programming in Python\")\n",
    ").select(\"Topic\")"
   ]
  },
  {
   "cell_type": "code",
   "execution_count": 11,
   "metadata": {},
   "outputs": [
    {
     "data": {
      "text/plain": [
       "array(['Data Science', 'Causality and Experiments',\n",
       "       'Programming in Python'], dtype='<U25')"
      ]
     },
     "execution_count": 11,
     "metadata": {},
     "output_type": "execute_result"
    }
   ],
   "source": [
    "# To get an array from a Table, use .column. \n",
    "Table().with_columns(\n",
    "    \"Textbook Chapter Number\",\n",
    "    np.arange(1, 4), \n",
    "    \"Topic\",\n",
    "    make_array(\"Data Science\", \"Causality and Experiments\", \"Programming in Python\")\n",
    ").column(\"Topic\")"
   ]
  },
  {
   "cell_type": "code",
   "execution_count": 12,
   "metadata": {},
   "outputs": [
    {
     "name": "stdout",
     "output_type": "stream",
     "text": [
      "Encountered error! TypeError('can only concatenate str (not \"int\") to str')\n"
     ]
    }
   ],
   "source": [
    "# Be way of matching incompatible data types. \n",
    "try:\n",
    "    \"1\" + 2\n",
    "except Exception as e:\n",
    "    print(\"Encountered error!\", e.__repr__())"
   ]
  },
  {
   "cell_type": "markdown",
   "metadata": {},
   "source": [
    "# Understanding Names\n",
    "Names (or variables) allow us to keep track of a specific value. We assign values to variables with the `=` operator; the name of the variable is always on the left hand side, while the value is on the right hand side. The right hand side is always evaluated before the right hand side. \n",
    "### Examples of Name Usage"
   ]
  },
  {
   "cell_type": "code",
   "execution_count": 13,
   "metadata": {},
   "outputs": [
    {
     "data": {
      "text/plain": [
       "30"
      ]
     },
     "execution_count": 13,
     "metadata": {},
     "output_type": "execute_result"
    }
   ],
   "source": [
    "# Assign x to 10, then reassign x to x + 20. \n",
    "x = 10\n",
    "x = x + 20\n",
    "x"
   ]
  },
  {
   "cell_type": "markdown",
   "metadata": {},
   "source": [
    "We evaluate expressions that contain names by replacing the name with its value. In the example below, we replace `fahrenheit_temps` on the second line with an array of `[60, 70, 80]` after the assignment on the first line. "
   ]
  },
  {
   "cell_type": "code",
   "execution_count": 14,
   "metadata": {},
   "outputs": [
    {
     "data": {
      "text/plain": [
       "array([15.55555556, 21.11111111, 26.66666667])"
      ]
     },
     "execution_count": 14,
     "metadata": {},
     "output_type": "execute_result"
    }
   ],
   "source": [
    "# Convert farenheit temperatures into celsius temperatures.\n",
    "fahrenheit_temps = make_array(60, 70, 80)\n",
    "celsius_temps = 5 / 9 * (fahrenheit_temps - 32)\n",
    "celsius_temps"
   ]
  },
  {
   "cell_type": "code",
   "execution_count": 15,
   "metadata": {},
   "outputs": [
    {
     "data": {
      "text/plain": [
       "30"
      ]
     },
     "execution_count": 15,
     "metadata": {},
     "output_type": "execute_result"
    }
   ],
   "source": [
    "# Note that variables are able to remember their value. Here's x that we saw earlier:\n",
    "x"
   ]
  },
  {
   "cell_type": "markdown",
   "metadata": {},
   "source": [
    "### Common Mistakes with Names"
   ]
  },
  {
   "cell_type": "code",
   "execution_count": 16,
   "metadata": {},
   "outputs": [
    {
     "data": {
      "text/plain": [
       "'farenheit_temps'"
      ]
     },
     "execution_count": 16,
     "metadata": {},
     "output_type": "execute_result"
    }
   ],
   "source": [
    "# Don't mix up names and strings. Quotes denote that a piece of text is a string, \n",
    "# whereas leaving out quotes will instruct Python to evaluate the text as a name.\n",
    "# Here's farenheit_temps as a string: \n",
    "\"farenheit_temps\""
   ]
  },
  {
   "cell_type": "code",
   "execution_count": 17,
   "metadata": {},
   "outputs": [
    {
     "data": {
      "text/plain": [
       "array([60, 70, 80], dtype=int64)"
      ]
     },
     "execution_count": 17,
     "metadata": {},
     "output_type": "execute_result"
    }
   ],
   "source": [
    "# This is different than x as a name:\n",
    "fahrenheit_temps"
   ]
  },
  {
   "cell_type": "code",
   "execution_count": 18,
   "metadata": {},
   "outputs": [
    {
     "data": {
      "text/html": [
       "<table border=\"1\" class=\"dataframe\">\n",
       "    <thead>\n",
       "        <tr>\n",
       "            <th>Topic</th>\n",
       "        </tr>\n",
       "    </thead>\n",
       "    <tbody>\n",
       "        <tr>\n",
       "            <td>Data Science             </td>\n",
       "        </tr>\n",
       "        <tr>\n",
       "            <td>Causality and Experiments</td>\n",
       "        </tr>\n",
       "        <tr>\n",
       "            <td>Programming in Python    </td>\n",
       "        </tr>\n",
       "    </tbody>\n",
       "</table>"
      ],
      "text/plain": [
       "Topic\n",
       "Data Science\n",
       "Causality and Experiments\n",
       "Programming in Python"
      ]
     },
     "execution_count": 18,
     "metadata": {},
     "output_type": "execute_result"
    }
   ],
   "source": [
    "# Be wary of this distinction when you access columns in Tables.\n",
    "# We assign chapters to be the table of textbook chapters and column_name to be \"Topic\".\n",
    "# We are able to perform a .select operation using this name:\n",
    "chapters = Table().with_columns(\n",
    "    \"Textbook Chapter Number\",\n",
    "    np.arange(1, 4), \n",
    "    \"Topic\",\n",
    "    make_array(\"Data Science\", \"Causality and Experiments\", \"Programming in Python\")\n",
    ")\n",
    "column_name = \"Topic\"\n",
    "chapters.select(column_name)"
   ]
  },
  {
   "cell_type": "code",
   "execution_count": 19,
   "metadata": {},
   "outputs": [
    {
     "name": "stdout",
     "output_type": "stream",
     "text": [
      "Encountered error! ValueError('The column \"column_name\" is not in the table. The table contains these columns: Textbook Chapter Number, Topic')\n"
     ]
    }
   ],
   "source": [
    "# However, if we instead used \"column_name\", this will result in an error.\n",
    "try:\n",
    "    chapters.select(\"column_name\")\n",
    "except Exception as e:\n",
    "    print(\"Encountered error!\", e.__repr__())"
   ]
  },
  {
   "cell_type": "code",
   "execution_count": 20,
   "metadata": {},
   "outputs": [
    {
     "name": "stdout",
     "output_type": "stream",
     "text": [
      "Encountered error! NameError(\"name 'fahrenheit_temp' is not defined\")\n"
     ]
    }
   ],
   "source": [
    "# If you see a NameError, it indicates that you've probably made a typo somewhere. \n",
    "# Make sure to double-check your spelling if you see this error.\n",
    "try:\n",
    "    fahrenheit_temp\n",
    "except Exception as e:\n",
    "    print(\"Encountered error!\", e.__repr__())"
   ]
  },
  {
   "cell_type": "markdown",
   "metadata": {},
   "source": [
    "# Functions\n",
    "Functions allow us to write a single piece of code that can be reused on multiple inputs.\n",
    "### Examples of Functions"
   ]
  },
  {
   "cell_type": "code",
   "execution_count": 21,
   "metadata": {},
   "outputs": [
    {
     "data": {
      "text/plain": [
       "7"
      ]
     },
     "execution_count": 21,
     "metadata": {},
     "output_type": "execute_result"
    }
   ],
   "source": [
    "# Functions can take in 0 or more arguments as input. Here's an example of a function that takes 2 numbers and together: \n",
    "def add(x, y):\n",
    "    return x + y\n",
    "add(3, 4)"
   ]
  },
  {
   "cell_type": "code",
   "execution_count": 22,
   "metadata": {},
   "outputs": [
    {
     "data": {
      "text/plain": [
       "3"
      ]
     },
     "execution_count": 22,
     "metadata": {},
     "output_type": "execute_result"
    }
   ],
   "source": [
    "# One of the main benefits of functions is that they can be called multiple times on different inputs. \n",
    "add(1, 2)"
   ]
  },
  {
   "cell_type": "code",
   "execution_count": 23,
   "metadata": {},
   "outputs": [
    {
     "data": {
      "text/plain": [
       "11"
      ]
     },
     "execution_count": 23,
     "metadata": {},
     "output_type": "execute_result"
    }
   ],
   "source": [
    "# Arguments passed into functions can also be names. \n",
    "a = 8\n",
    "b = 3\n",
    "add(a, b)"
   ]
  },
  {
   "cell_type": "markdown",
   "metadata": {},
   "source": [
    "### Common Mistakes with Creating Functions"
   ]
  },
  {
   "cell_type": "code",
   "execution_count": 24,
   "metadata": {},
   "outputs": [
    {
     "data": {
      "text/plain": [
       "11"
      ]
     },
     "execution_count": 24,
     "metadata": {},
     "output_type": "execute_result"
    }
   ],
   "source": [
    "# Make sure you don't hard code names in function bodies by referring to variables outside the function body.\n",
    "# If you create a function that takes in arguments, you should always use them. \n",
    "# Here's an example of a buggy adding function that refers to the names a and b from the previous cell instead of the arguments.\n",
    "# As a result, the output will always be a + b regardless of what arguments are passed in. \n",
    "def buggyAdder(x, y):\n",
    "    return a + b\n",
    "buggyAdder(1, 2)"
   ]
  },
  {
   "cell_type": "code",
   "execution_count": 25,
   "metadata": {},
   "outputs": [
    {
     "name": "stdout",
     "output_type": "stream",
     "text": [
      "Encountered error! TypeError('can only concatenate str (not \"int\") to str')\n"
     ]
    }
   ],
   "source": [
    "# Always verify that you pass in the correct data types to your functions. \n",
    "# Here's an example of a data type mismatch caused by passing a string and an integer into the add function.\n",
    "try:\n",
    "    add(\"1\", 2)\n",
    "except Exception as e:\n",
    "    print(\"Encountered error!\", e.__repr__())"
   ]
  },
  {
   "cell_type": "code",
   "execution_count": 26,
   "metadata": {},
   "outputs": [
    {
     "name": "stdout",
     "output_type": "stream",
     "text": [
      "Encountered error! TypeError(\"add() missing 1 required positional argument: 'y'\")\n"
     ]
    }
   ],
   "source": [
    "# Make sure you pass the correct number of number arguments into a function. \n",
    "# Here's what happens when we try to pass only one argument into our add function. \n",
    "try:\n",
    "    add(1)\n",
    "except Exception as e:\n",
    "    print(\"Encountered error!\", e.__repr__())"
   ]
  },
  {
   "cell_type": "code",
   "execution_count": 27,
   "metadata": {},
   "outputs": [
    {
     "data": {
      "text/plain": [
       "'Hello Cool Cats and Kittens'"
      ]
     },
     "execution_count": 27,
     "metadata": {},
     "output_type": "execute_result"
    }
   ],
   "source": [
    "# Variables created inside functions only exist inside the function. \n",
    "# Trying to refer to them outside of the function will result in an error. \n",
    "# The below function adds the \"Hello \" as a prefix to a string s that's passed in. \n",
    "# The function contains a string variable prefix that's assigned to \"Hello \".\n",
    "def greet(s):\n",
    "    prefix = \"Hello \"\n",
    "    return prefix + s\n",
    "greet(\"Cool Cats and Kittens\")"
   ]
  },
  {
   "cell_type": "code",
   "execution_count": 28,
   "metadata": {},
   "outputs": [
    {
     "name": "stdout",
     "output_type": "stream",
     "text": [
      "Encountered error! NameError(\"name 'prefix' is not defined\")\n"
     ]
    }
   ],
   "source": [
    "# Here's what happens when you try to access the prefix variables \n",
    "try: \n",
    "    print(prefix)\n",
    "except Exception as e:\n",
    "    print(\"Encountered error!\", e.__repr__())"
   ]
  },
  {
   "cell_type": "code",
   "execution_count": 29,
   "metadata": {},
   "outputs": [],
   "source": [
    "# If you forget a return statement, your function won't be able to pass values outside the function. \n",
    "# Here's an example of a function that calculates the mean of an array, but is missing a return statement. \n",
    "# You'll notice that there's no output for this cell. \n",
    "def mean(array):\n",
    "    sum(array) / len(array)\n",
    "mean(np.arange(5))"
   ]
  },
  {
   "cell_type": "code",
   "execution_count": 30,
   "metadata": {},
   "outputs": [
    {
     "name": "stdout",
     "output_type": "stream",
     "text": [
      "The mean of the array is:  0\n"
     ]
    }
   ],
   "source": [
    "# Finally, make sure you store the output or result of the function, or else all the work that the function did will be lost. \n",
    "# In the following code snippet, we fix the mean function and want to store and print the value of the mean of an array. \n",
    "# However, since we forget to assign the output of the function to anything, the code will fail.\n",
    "def mean(array):\n",
    "    return sum(array) / len(array)\n",
    "meanOfArray = 0 # Dummy value \n",
    "mean(make_array(4, 5, 6))\n",
    "print(\"The mean of the array is: \", meanOfArray)"
   ]
  },
  {
   "cell_type": "markdown",
   "metadata": {},
   "source": [
    "# Iteration\n",
    "Iteration allows you to repeat a block of code a specified number of times.\n",
    "### Examples of Iteration"
   ]
  },
  {
   "cell_type": "code",
   "execution_count": 31,
   "metadata": {},
   "outputs": [
    {
     "name": "stdout",
     "output_type": "stream",
     "text": [
      "10\n",
      "11\n",
      "12\n",
      "13\n",
      "14\n",
      "15\n",
      "16\n",
      "17\n",
      "18\n",
      "19\n"
     ]
    }
   ],
   "source": [
    "# Basic for loop that prints out each index. \n",
    "# Note that at the ith iteration, element is assigned to np.arange(10, 20).item(i). \n",
    "for element in np.arange(10, 20):\n",
    "    print(element)"
   ]
  },
  {
   "cell_type": "markdown",
   "metadata": {},
   "source": [
    "There's two common paradigms for iteration. In the first paradigm, you don't care about what index you're on, and you only want to repeat something a specified number of times. For example, the following code creates an array of 10 zeroes. Note that the iterating variable is called `unused`, and is never referred to in the body of the loop. "
   ]
  },
  {
   "cell_type": "code",
   "execution_count": 32,
   "metadata": {},
   "outputs": [
    {
     "data": {
      "text/plain": [
       "array([0., 0., 0., 0., 0., 0., 0., 0., 0., 0.])"
      ]
     },
     "execution_count": 32,
     "metadata": {},
     "output_type": "execute_result"
    }
   ],
   "source": [
    "# The following piece of code creates an array of 10 zeroes.\n",
    "zeroes = make_array() \n",
    "for unused in np.arange(10):\n",
    "    zeroes = np.append(zeroes, 0)\n",
    "zeroes"
   ]
  },
  {
   "cell_type": "markdown",
   "metadata": {},
   "source": [
    "On the other hand, if you do care about the index, you want to incorporate the index variable in the body of your for loop. "
   ]
  },
  {
   "cell_type": "code",
   "execution_count": 33,
   "metadata": {},
   "outputs": [
    {
     "name": "stdout",
     "output_type": "stream",
     "text": [
      "1 Odd number found!\n",
      "2 Even number found!\n",
      "3 Odd number found!\n",
      "4 Even number found!\n",
      "5 Odd number found!\n",
      "6 Even number found!\n",
      "7 Odd number found!\n",
      "8 Even number found!\n",
      "9 Odd number found!\n",
      "10 Even number found!\n",
      "Count of even numbers: 5\n"
     ]
    }
   ],
   "source": [
    "# The following piece of code counts the number of even numbers in the numbers from 1 to 10.\n",
    "# It prints the index, as well as if the number is even or odd. \n",
    "numEvens = 0\n",
    "for number in np.arange(1, 11):\n",
    "    if (number % 2 == 0):\n",
    "        print(number, \"Even number found!\")\n",
    "        numEvens = numEvens + 1\n",
    "    else:\n",
    "        print(number, \"Odd number found!\")\n",
    "print(\"Count of even numbers:\", numEvens)"
   ]
  }
 ],
 "metadata": {
  "kernelspec": {
   "display_name": "Python 3",
   "language": "python",
   "name": "python3"
  },
  "language_info": {
   "codemirror_mode": {
    "name": "ipython",
    "version": 3
   },
   "file_extension": ".py",
   "mimetype": "text/x-python",
   "name": "python",
   "nbconvert_exporter": "python",
   "pygments_lexer": "ipython3",
   "version": "3.7.9"
  }
 },
 "nbformat": 4,
 "nbformat_minor": 4
}
